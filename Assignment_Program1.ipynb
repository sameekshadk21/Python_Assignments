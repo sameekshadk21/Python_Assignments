{
 "cells": [
  {
   "cell_type": "code",
   "execution_count": 1,
   "id": "3ebabfc3-d912-46da-869c-d8e06701fcf0",
   "metadata": {},
   "outputs": [
    {
     "name": "stdout",
     "output_type": "stream",
     "text": [
      "Hello World\n"
     ]
    }
   ],
   "source": [
    "#1. Write a Python program to print &quot;Hello Python&quot;?\n",
    "print(\"Hello World\")\n"
   ]
  },
  {
   "cell_type": "code",
   "execution_count": 3,
   "id": "be89c103-a620-4fa3-b120-6c5d47d4b84a",
   "metadata": {},
   "outputs": [
    {
     "name": "stdin",
     "output_type": "stream",
     "text": [
      "Enter the 1st number:  10\n",
      "Enter 2nd number:  20\n",
      "Enter the operation either + or /:  +\n"
     ]
    },
    {
     "name": "stdout",
     "output_type": "stream",
     "text": [
      "30\n"
     ]
    }
   ],
   "source": [
    "#2. Write a Python program to do arithmetical operations addition and division.?\n",
    "a = int(input(\"Enter the 1st number: \"))\n",
    "b = int(input(\"Enter 2nd number: \"))\n",
    "op = str(input(\"Enter the operation either + or /: \"))\n",
    "if op == \"+\":\n",
    "    print(a +b)\n",
    "elif op == \"/\" and b == 0:\n",
    "    print(\"Enter Valid input\")\n",
    "elif op == \"/\":\n",
    "    print(a/b)\n"
   ]
  },
  {
   "cell_type": "code",
   "execution_count": 4,
   "id": "cd4cfc12-4ae9-403e-a917-0aea1cb89326",
   "metadata": {},
   "outputs": [
    {
     "name": "stdin",
     "output_type": "stream",
     "text": [
      "Enter the 1st number:  20\n",
      "Enter 2nd number:  10\n",
      "Enter the operation either + or /:  /\n"
     ]
    },
    {
     "name": "stdout",
     "output_type": "stream",
     "text": [
      "2.0\n"
     ]
    }
   ],
   "source": [
    "a = int(input(\"Enter the 1st number: \"))\n",
    "b = int(input(\"Enter 2nd number: \"))\n",
    "op = str(input(\"Enter the operation either + or /: \"))\n",
    "if op == \"+\":\n",
    "    print(a +b)\n",
    "elif op == \"/\" and b == 0:\n",
    "    print(\"Enter Valid input\")\n",
    "elif op == \"/\":\n",
    "    print(a/b)"
   ]
  },
  {
   "cell_type": "code",
   "execution_count": 5,
   "id": "4e54ae81-54cf-41ed-8670-c091d42306f9",
   "metadata": {},
   "outputs": [
    {
     "name": "stdin",
     "output_type": "stream",
     "text": [
      "Enter the 1st number:  2\n",
      "Enter 2nd number:  0\n",
      "Enter the operation either + or /:  /\n"
     ]
    },
    {
     "name": "stdout",
     "output_type": "stream",
     "text": [
      "Enter Valid input\n"
     ]
    }
   ],
   "source": [
    "a = int(input(\"Enter the 1st number: \"))\n",
    "b = int(input(\"Enter 2nd number: \"))\n",
    "op = str(input(\"Enter the operation either + or /: \"))\n",
    "if op == \"+\":\n",
    "    print(a +b)\n",
    "elif op == \"/\" and b == 0:\n",
    "    print(\"Enter Valid input\")\n",
    "elif op == \"/\":\n",
    "    print(a/b)"
   ]
  },
  {
   "cell_type": "code",
   "execution_count": 6,
   "id": "8d9ff348-cda8-4e21-bb6d-03022f22510d",
   "metadata": {},
   "outputs": [
    {
     "name": "stdin",
     "output_type": "stream",
     "text": [
      "Enter heght 10\n",
      "enter base 30\n"
     ]
    },
    {
     "name": "stdout",
     "output_type": "stream",
     "text": [
      "150.0\n"
     ]
    }
   ],
   "source": [
    "#3. Write a Python program to find the area of a triangle?\n",
    "a = int(input(\"Enter heght\"))\n",
    "b = int(input(\"enter base\"))\n",
    "area = 0.5 * a*b\n",
    "print(area)\n"
   ]
  },
  {
   "cell_type": "code",
   "execution_count": 9,
   "id": "4e93b865-5c0f-4fba-af64-eb11e231edb8",
   "metadata": {},
   "outputs": [
    {
     "name": "stdin",
     "output_type": "stream",
     "text": [
      "Enter variable a:  Y\n",
      "Enter #nd Variable b:  O\n"
     ]
    },
    {
     "name": "stdout",
     "output_type": "stream",
     "text": [
      "a O\n",
      "b Y\n"
     ]
    }
   ],
   "source": [
    "#4. Write a Python program to swap two variables?\n",
    "a = str(input(\"Enter variable a: \"))\n",
    "b = str(input(\"Enter #nd Variable b: \"))\n",
    "c = a\n",
    "a = b\n",
    "b = c\n",
    "print(\"a\",a)\n",
    "print(\"b\",b)"
   ]
  },
  {
   "cell_type": "code",
   "execution_count": 12,
   "id": "461ed440-b5ca-49d6-9aff-3aa16db1bb1b",
   "metadata": {},
   "outputs": [
    {
     "name": "stdout",
     "output_type": "stream",
     "text": [
      "4\n"
     ]
    }
   ],
   "source": [
    "#5. Write a Python program to generate a random number?\n",
    "import random as r\n",
    "n = r.randint(0,10)\n",
    "print(n)"
   ]
  },
  {
   "cell_type": "code",
   "execution_count": null,
   "id": "659481e8-e2c1-4685-a29b-0af560c969c5",
   "metadata": {},
   "outputs": [],
   "source": []
  },
  {
   "cell_type": "code",
   "execution_count": null,
   "id": "848293e7-7775-40ab-b467-dcf710fb59c2",
   "metadata": {},
   "outputs": [],
   "source": [
    "\n"
   ]
  }
 ],
 "metadata": {
  "kernelspec": {
   "display_name": "Python 3 (ipykernel)",
   "language": "python",
   "name": "python3"
  },
  "language_info": {
   "codemirror_mode": {
    "name": "ipython",
    "version": 3
   },
   "file_extension": ".py",
   "mimetype": "text/x-python",
   "name": "python",
   "nbconvert_exporter": "python",
   "pygments_lexer": "ipython3",
   "version": "3.10.6"
  },
  "widgets": {
   "application/vnd.jupyter.widget-state+json": {
    "state": {},
    "version_major": 2,
    "version_minor": 0
   }
  }
 },
 "nbformat": 4,
 "nbformat_minor": 5
}
