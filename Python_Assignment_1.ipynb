{
 "cells": [
  {
   "cell_type": "code",
   "execution_count": null,
   "id": "e913c82b",
   "metadata": {},
   "outputs": [],
   "source": [
    "1. In the below elements which of them are values or an expression? eg:- values can be integer or string and expressions will be mathematical operators.\n",
    "* \n",
    "'hello'\n",
    "-87.8\n",
    "- \n",
    "/ \n",
    "+\n",
    "6 \n"
   ]
  },
  {
   "cell_type": "raw",
   "id": "a8019855",
   "metadata": {},
   "source": [
    "Ans:\n",
    "Values:'hello',-87.8, 6\n",
    "Expression: *,-,/,+\n",
    " "
   ]
  },
  {
   "cell_type": "code",
   "execution_count": null,
   "id": "41b1a6a9",
   "metadata": {},
   "outputs": [],
   "source": [
    "2. What is the difference between string and variable?\n",
    "Variable: Holds the data in memory\n",
    "String : It is the type of the value which can be stored in Variable\n"
   ]
  },
  {
   "cell_type": "code",
   "execution_count": null,
   "id": "510c8e5f",
   "metadata": {},
   "outputs": [],
   "source": [
    "3. Describe three different data types.\n",
    "1) Integer\n",
    "2) Float\n",
    "3) complex\n",
    "4) Boolean\n",
    "5) string"
   ]
  },
  {
   "cell_type": "code",
   "execution_count": null,
   "id": "97f05c86",
   "metadata": {},
   "outputs": [],
   "source": [
    "4. What is an expression made up of? What do all expressions do?\n",
    "Ans:Expressions are made up of operands and operators. It is used to obtain the values using operators and operaands/"
   ]
  },
  {
   "cell_type": "code",
   "execution_count": null,
   "id": "60c2ddcd",
   "metadata": {},
   "outputs": [],
   "source": [
    "5. This assignment statements, like spam = 10. What is the difference between an expression and a statement?\n",
    "Ans:An expression evaluates to a single value. \n",
    "    A statement does not evaluates/produce a value."
   ]
  },
  {
   "cell_type": "code",
   "execution_count": null,
   "id": "4866ad8f",
   "metadata": {},
   "outputs": [],
   "source": [
    "6. After running the following code, what does the variable bacon contain?\n",
    "bacon = 22\n",
    "bacon + 1\n",
    "\n",
    "Ans: Bacon Contains 22\n"
   ]
  },
  {
   "cell_type": "code",
   "execution_count": null,
   "id": "8c540fa7",
   "metadata": {},
   "outputs": [],
   "source": [
    "7. What should the values of the following two terms be?\n",
    "'spam' + 'spamspam'\n",
    "'spam' * 3\n",
    "Ans:'spamspamspam'\n",
    "     'spamspamspam'"
   ]
  },
  {
   "cell_type": "code",
   "execution_count": 3,
   "id": "0ff1d9fc",
   "metadata": {},
   "outputs": [
    {
     "data": {
      "text/plain": [
       "'spamspamspam'"
      ]
     },
     "execution_count": 3,
     "metadata": {},
     "output_type": "execute_result"
    }
   ],
   "source": [
    "a = 'spam' * 3\n",
    "a"
   ]
  },
  {
   "cell_type": "raw",
   "id": "2eb44871",
   "metadata": {},
   "source": [
    "8. Why is eggs a valid variable name while 100 is invalid?\n",
    "Ans: Variable name cannot start with integers"
   ]
  },
  {
   "cell_type": "raw",
   "id": "41eea03a",
   "metadata": {},
   "source": [
    "9. What three functions can be used to get the integer, floating-point number, or string version of a value?\n",
    "Ans: Integer->int()\n",
    "    Float -> float()\n",
    "    string -> str()"
   ]
  },
  {
   "cell_type": "code",
   "execution_count": null,
   "id": "83c4d463",
   "metadata": {},
   "outputs": [],
   "source": [
    "10. Why does this expression cause an error? How can you fix it?\n",
    "'I have eaten ' + 99 + ' burritos.'\n",
    "ANS: Int type cannot concatenate with string. So we should convert integer into string"
   ]
  },
  {
   "cell_type": "code",
   "execution_count": 5,
   "id": "55464350",
   "metadata": {},
   "outputs": [
    {
     "data": {
      "text/plain": [
       "'I have eaten 99 burritos.'"
      ]
     },
     "execution_count": 5,
     "metadata": {},
     "output_type": "execute_result"
    }
   ],
   "source": [
    "s = 'I have eaten ' + '99' + ' burritos.'\n",
    "s\n",
    "\n",
    "\n",
    "\n"
   ]
  },
  {
   "cell_type": "code",
   "execution_count": null,
   "id": "4f25ae6c",
   "metadata": {},
   "outputs": [],
   "source": []
  },
  {
   "cell_type": "code",
   "execution_count": null,
   "id": "97d2ab4e",
   "metadata": {},
   "outputs": [],
   "source": []
  },
  {
   "cell_type": "code",
   "execution_count": null,
   "id": "1acb8cfc",
   "metadata": {},
   "outputs": [],
   "source": []
  }
 ],
 "metadata": {
  "kernelspec": {
   "display_name": "Python 3 (ipykernel)",
   "language": "python",
   "name": "python3"
  },
  "language_info": {
   "codemirror_mode": {
    "name": "ipython",
    "version": 3
   },
   "file_extension": ".py",
   "mimetype": "text/x-python",
   "name": "python",
   "nbconvert_exporter": "python",
   "pygments_lexer": "ipython3",
   "version": "3.9.12"
  }
 },
 "nbformat": 4,
 "nbformat_minor": 5
}
