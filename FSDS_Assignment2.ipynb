{
 "cells": [
  {
   "cell_type": "markdown",
   "id": "f22ba080-661d-4d10-8354-6090c8af123b",
   "metadata": {},
   "source": [
    "1) What is indentation error? Why indentation is important? Give one simple example?\n",
    "Ans Error which are caused due to incorrect space or tabs known as indentation error.\n",
    "Since python execute the code line by line,without proper indentation it python won't able to realise which line of codes need to execute\n",
    "if: #this if bloct starts here and ends with next else \n",
    "    if: # this if bloct starts here and ends with next else\n",
    "    else:\n",
    "else:\n"
   ]
  },
  {
   "cell_type": "code",
   "execution_count": 162,
   "id": "13887441-e3db-41e9-bacc-3f8bc3cc8e3b",
   "metadata": {},
   "outputs": [
    {
     "name": "stdin",
     "output_type": "stream",
     "text": [
      "Hey friend, is class started?: [0-False/1-True] 0\n"
     ]
    },
    {
     "name": "stdout",
     "output_type": "stream",
     "text": [
      "Since class is not started...\n",
      "let's revise\n"
     ]
    }
   ],
   "source": [
    "#2Correct the following code and write the comment where you made the correction?\n",
    "\n",
    "class_started = int(input(\"Hey friend, is class started?: [0-False/1-True]\"))#removed bool and placed int\n",
    "\n",
    "if class_started == 1:\n",
    "   print(\"Since class started...\")\n",
    "   print(\"Lets concentrate\")\n",
    "else:\n",
    "   print(\"Since class is not started...\")\n",
    "   print(\"let's revise\")    "
   ]
  },
  {
   "cell_type": "code",
   "execution_count": 37,
   "id": "d94284ec-6e4d-4cfb-816d-06247b371e94",
   "metadata": {},
   "outputs": [
    {
     "name": "stdin",
     "output_type": "stream",
     "text": [
      " 123\n"
     ]
    },
    {
     "name": "stdout",
     "output_type": "stream",
     "text": [
      "Input is string\n"
     ]
    }
   ],
   "source": [
    "#3)Use if else condition to verify that dataype of input() method in python is always string.\n",
    "s = input()\n",
    "if type(s) == str:\n",
    "    print(\"Input is string\")\n",
    "elif type(s) == int:\n",
    "    print(\"Input is not astring\")\n"
   ]
  },
  {
   "cell_type": "code",
   "execution_count": 38,
   "id": "c88f15df-b25f-482d-8345-2db7252fdcb1",
   "metadata": {},
   "outputs": [
    {
     "name": "stdin",
     "output_type": "stream",
     "text": [
      " Sameeksha\n"
     ]
    },
    {
     "name": "stdout",
     "output_type": "stream",
     "text": [
      "Input is string\n"
     ]
    }
   ],
   "source": [
    "#3)Use if else condition to verify that dataype of input() method in python is always string.\n",
    "s = input()\n",
    "if type(s) == str:\n",
    "    print(\"Input is string\")\n",
    "elif type(s) == int:\n",
    "    print(\"Input is not astring\")"
   ]
  },
  {
   "cell_type": "code",
   "execution_count": 48,
   "id": "dd6b1a28-ef34-4f79-bdfb-b4e0e1b613d2",
   "metadata": {},
   "outputs": [
    {
     "name": "stdout",
     "output_type": "stream",
     "text": [
      "Largest variable is {10000237}\n"
     ]
    }
   ],
   "source": [
    "#4 Take 3 variables and assign integer values to them. Find the largest variable, by only using the if and else conditions.\n",
    "a = 100021\n",
    "b = 1000\n",
    "c = 10000237\n",
    "max = 0\n",
    "if a>=b and a>=c:\n",
    "    max = a\n",
    "    print(f\"Largest variable is\",{max})\n",
    "elif b>=a and b>=c:\n",
    "    max = b\n",
    "    print(f\"Largest variable is\",{max})\n",
    "else:\n",
    "    max = c\n",
    "    print(f\"Largest variable is\",{max})\n",
    "    \n",
    "    "
   ]
  },
  {
   "cell_type": "code",
   "execution_count": 49,
   "id": "294815ab-9808-4259-b6ce-a43af25b13f2",
   "metadata": {},
   "outputs": [
    {
     "name": "stdout",
     "output_type": "stream",
     "text": [
      "False\n"
     ]
    }
   ],
   "source": [
    "#5 What would be the solution?\n",
    "\n",
    "#True\n",
    "\n",
    "#False\n",
    "\n",
    "a = 6\n",
    "b = 10\n",
    "print( not ( not a == 10 or not b == 10) )"
   ]
  },
  {
   "cell_type": "code",
   "execution_count": 50,
   "id": "3e42f06b-c499-4acd-ac10-d862240fda72",
   "metadata": {},
   "outputs": [
    {
     "name": "stdout",
     "output_type": "stream",
     "text": [
      "False\n"
     ]
    }
   ],
   "source": [
    "#6 Find the answer as well as find out the reason behind the result? -\n",
    "\n",
    "#case 1:\n",
    "A = 5.0\n",
    "B = 10/2\n",
    "print(A is B)"
   ]
  },
  {
   "cell_type": "code",
   "execution_count": 51,
   "id": "563ee6bc-5cde-43ad-8955-7cc1229a9805",
   "metadata": {},
   "outputs": [
    {
     "name": "stdout",
     "output_type": "stream",
     "text": [
      "False\n"
     ]
    }
   ],
   "source": [
    "#case 2:\n",
    "A = 5.0\n",
    "B = int(10/2)\n",
    "print(A is B)"
   ]
  },
  {
   "cell_type": "code",
   "execution_count": 85,
   "id": "59a55cd7-8e4f-4daa-927c-ef9dce639993",
   "metadata": {},
   "outputs": [
    {
     "name": "stdout",
     "output_type": "stream",
     "text": [
      "False\n"
     ]
    }
   ],
   "source": [
    "#case3\n",
    "A = 5.0\n",
    "B = float(10/2)\n",
    "#print(type(A))\n",
    "#print(type(B))\n",
    "#type(c)\n",
    "print(A is B)"
   ]
  },
  {
   "cell_type": "code",
   "execution_count": 91,
   "id": "08d32b3d-d79a-4ddc-9b2e-5de2f8c7b89d",
   "metadata": {},
   "outputs": [
    {
     "name": "stdin",
     "output_type": "stream",
     "text": [
      " 190\n"
     ]
    },
    {
     "name": "stdout",
     "output_type": "stream",
     "text": [
      "190 is divisible by either 3 or 5\n"
     ]
    }
   ],
   "source": [
    "\"\"\"7 Write a program that asks the user to enter a number. \n",
    "You should print out a message to the user, either “That number is divisible by either 3 or 5”, or\n",
    "“That number is not divisible by either 3 or 5”.\n",
    "Be sure to consider the data type of the input you are taking in from the user. \n",
    "Use a single if/else block to solve this problem.\"\"\"\n",
    "\n",
    "number = int(input())\n",
    "if (number%3 == 0 or number%5 == 0):\n",
    "    print(f\"{number} is divisible by either 3 or 5\")\n",
    "else:\n",
    "     print(f\"{number} is not divisible by either 3 or 5\")"
   ]
  },
  {
   "cell_type": "code",
   "execution_count": 96,
   "id": "38450141-e848-4278-9d47-e50f843a6233",
   "metadata": {},
   "outputs": [
    {
     "name": "stdin",
     "output_type": "stream",
     "text": [
      "Enter the Length 10\n",
      "Enter the Breadth 10\n"
     ]
    },
    {
     "name": "stdout",
     "output_type": "stream",
     "text": [
      "100\n",
      "100:-Its a square!!\n"
     ]
    }
   ],
   "source": [
    "\"\"\"8)Take user input for length and width.\n",
    "Then calculate the area of rectangle.\n",
    "Also print as per length and width whether its a square of rectangle.\"\"\"\n",
    "l = int(input(\"Enter the Length\"))\n",
    "b = int(input(\"Enter the Breadth\"))\n",
    "a = l * b\n",
    "print(a)\n",
    "if l == b:\n",
    "      print(f\"{a}:-Its a square!!\")\n",
    "else:\n",
    "      print(f\"{a}:-Its not a square!!\") "
   ]
  },
  {
   "cell_type": "code",
   "execution_count": 102,
   "id": "3bdec11d-0278-475f-86c8-905d51c8800c",
   "metadata": {},
   "outputs": [
    {
     "name": "stdin",
     "output_type": "stream",
     "text": [
      "Enter the raduis of 1st Circle 10\n",
      "Enter the raduis of 2nd Circle 5\n"
     ]
    },
    {
     "name": "stdout",
     "output_type": "stream",
     "text": [
      "3.141592653589793\n",
      "Area of 1 circle is greater than 2nd circle i.e. --> 314\n"
     ]
    }
   ],
   "source": [
    "\"\"\"9)Take two variable radius_1 and radius_2 and calculate the area of circle_1 and circle_2.\n",
    "Also print which circle has large area. If area is equal then print area is equal.\"\"\"\n",
    "import math\n",
    "radius_1 = int(input(\"Enter the raduis of 1st Circle\"))\n",
    "radius_2 = int(input(\"Enter the raduis of 2nd Circle\"))\n",
    "pi = math.pi\n",
    "a_1 = int((pi * (radius_1**2)))\n",
    "a_2 = int((pi * (radius_2**2)))\n",
    "print(pi)\n",
    "if a_1 == a_2:\n",
    "    print(\"Area of 2 circle are equal\")\n",
    "elif a_1 > a_2:\n",
    "    print(f\"Area of 1 circle is greater than 2nd circle i.e. --> {a_1}\")\n",
    "elif a_2 > a_1:\n",
    "    print(f\"Area of 2 circle is greater than 1st circle i.e. --> {a_2}\")\n",
    "\n",
    "\n",
    "\n",
    "\n",
    "\n",
    "\n",
    "\n",
    "\n",
    "\n",
    "\n",
    "\n",
    "\n"
   ]
  },
  {
   "cell_type": "code",
   "execution_count": 155,
   "id": "98e9c15c-98d9-4218-975b-f7cefe62cba2",
   "metadata": {},
   "outputs": [
    {
     "name": "stdin",
     "output_type": "stream",
     "text": [
      "Enter the year:  1700\n"
     ]
    },
    {
     "name": "stdout",
     "output_type": "stream",
     "text": [
      "1700 is not leap year\n"
     ]
    }
   ],
   "source": [
    "\"\"\"10)Check whether a year is leap year or not. Use nested if...else to solve this problem. \n",
    "A leap year is exactly divisible by 4 except for century years (years ending with 00). \n",
    "The century year is a leap year only if it is perfectly divisible by 400.\"\"\"\n",
    "\"\"\"2017 is not a leap year\n",
    "1900 is a not leap year\n",
    "2012 is a leap year\n",
    "2000 is a leap year\"\"\"\n",
    "\n",
    "year = int(input(\"Enter the year: \"))\n",
    "if(year%100 == 0 and year%400 == 0):\n",
    "    print(f\"{year} is leap year\")\n",
    "elif(year%100 != 0 and year%4 == 0):\n",
    "    print(f\"{year} is a leap year\")\n",
    "else:\n",
    "    print(f\"{year} is not leap year\")\n",
    "        \n",
    "                \n",
    "\n",
    "\n",
    "\n",
    "\n",
    "\n",
    "\n",
    "\n",
    "\n",
    "\n",
    "\n",
    "\n",
    "\n",
    "\n"
   ]
  },
  {
   "cell_type": "code",
   "execution_count": 107,
   "id": "001a0d74-fa2d-42ba-9365-73df12470ee4",
   "metadata": {},
   "outputs": [
    {
     "data": {
      "text/plain": [
       "0"
      ]
     },
     "execution_count": 107,
     "metadata": {},
     "output_type": "execute_result"
    }
   ],
   "source": [
    "\n"
   ]
  },
  {
   "cell_type": "code",
   "execution_count": null,
   "id": "36a8f8ac-b447-4f16-ac76-3bce3c615b02",
   "metadata": {},
   "outputs": [],
   "source": []
  }
 ],
 "metadata": {
  "kernelspec": {
   "display_name": "Python 3 (ipykernel)",
   "language": "python",
   "name": "python3"
  },
  "language_info": {
   "codemirror_mode": {
    "name": "ipython",
    "version": 3
   },
   "file_extension": ".py",
   "mimetype": "text/x-python",
   "name": "python",
   "nbconvert_exporter": "python",
   "pygments_lexer": "ipython3",
   "version": "3.9.12"
  }
 },
 "nbformat": 4,
 "nbformat_minor": 5
}
