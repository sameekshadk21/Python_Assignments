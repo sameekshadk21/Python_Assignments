{
 "cells": [
  {
   "cell_type": "code",
   "execution_count": null,
   "id": "9d5bb36a",
   "metadata": {},
   "outputs": [],
   "source": [
    "1.What are the two values of the Boolean data type? How do you write them?\n",
    "Ans: 0 and 1\n",
    "    True and False"
   ]
  },
  {
   "cell_type": "code",
   "execution_count": null,
   "id": "1fde18f1",
   "metadata": {},
   "outputs": [],
   "source": [
    "2. What are the three different types of Boolean operators?\n",
    "Ans: And, OR ,NOT"
   ]
  },
  {
   "cell_type": "code",
   "execution_count": null,
   "id": "0fc7e5ef",
   "metadata": {},
   "outputs": [],
   "source": [
    "3. Make a list of each Boolean operator's truth tables (i.e. every possible combination of Boolean values for the operator and what it evaluate ).\n",
    "ANS:OR\n",
    "    0 + 0 = 0\n",
    "    0 + 1 = 1\n",
    "    1 + 1 = 1\n",
    "    1 + 0 = 1\n",
    "AND\n",
    "    0 * 0 = 0\n",
    "    1 * 0 = 0\n",
    "    0 * 0 = 0\n",
    "    1 * 1 = 1\n",
    "NOT \n",
    "    0 = 1\n",
    "    1 = 0\n",
    "\n",
    "\n"
   ]
  },
  {
   "cell_type": "code",
   "execution_count": null,
   "id": "5c5ab413",
   "metadata": {},
   "outputs": [],
   "source": [
    "4. What are the values of the following expressions?\n",
    "(5 > 4) and (3 == 5) ----> False\n",
    "not (5 > 4) -----------> False\n",
    "(5 > 4) or (3 == 5) -------> True \n",
    "not ((5 > 4) or (3 == 5)) -------------->False\n",
    "(True and True) and (True == False)-------> False\n",
    "(not False) or (not True) ------> True\n"
   ]
  },
  {
   "cell_type": "raw",
   "id": "5df342f7",
   "metadata": {},
   "source": [
    "5. What are the six comparison operators?\n",
    "Ans:\n",
    "1) >\n",
    "2) <\n",
    "3) >=\n",
    "4) <=\n",
    "5) !=\n",
    "6) ==\n"
   ]
  },
  {
   "cell_type": "code",
   "execution_count": null,
   "id": "9182a9f6",
   "metadata": {},
   "outputs": [],
   "source": [
    "6. How do you tell the difference between the equal to and assignment operators?Describe a condition and when you would use one.\n",
    "Ans:\n",
    "    Assignment  we use \"=\" symbols\n",
    "    Equal to we use \"==\" Symbols"
   ]
  },
  {
   "cell_type": "raw",
   "id": "05d24229",
   "metadata": {},
   "source": [
    "7. Identify the three blocks in this code:\n",
    "spam = 0\n",
    "if spam == 10:\n",
    "print('eggs')\n",
    "if spam > 5:\n",
    "print('bacon')\n",
    "else:\n",
    "print('ham')\n",
    "print('spam')\n",
    "print('spam')\n"
   ]
  },
  {
   "cell_type": "code",
   "execution_count": 9,
   "id": "b45f9444",
   "metadata": {},
   "outputs": [
    {
     "name": "stdout",
     "output_type": "stream",
     "text": [
      "ham\n",
      "spam\n",
      "spam\n"
     ]
    }
   ],
   "source": [
    "\n",
    "spam = 0\n",
    "if spam == 10:\n",
    "    print('eggs')\n",
    "if spam > 5:\n",
    "    print('bacon')\n",
    "else:\n",
    "    print('ham')\n",
    "    print('spam')\n",
    "    print('spam')\n"
   ]
  },
  {
   "cell_type": "code",
   "execution_count": null,
   "id": "a2cc902b",
   "metadata": {},
   "outputs": [],
   "source": [
    "8. Write code that prints Hello if 1 is stored in spam, \n",
    "prints Howdy if 2 is stored in spam, and \n",
    "prints Greetings! if anything else is stored in spam."
   ]
  },
  {
   "cell_type": "code",
   "execution_count": null,
   "id": "ed55e966",
   "metadata": {},
   "outputs": [],
   "source": [
    "if spam == '1':\n",
    "    print(\"Hello\")\n",
    "if spam == '2':\n",
    "     print(\"Howdy\")\n",
    "else:\n",
    "    print(\"Greetings\")"
   ]
  },
  {
   "cell_type": "code",
   "execution_count": null,
   "id": "3ef78079",
   "metadata": {},
   "outputs": [],
   "source": [
    "9.If your programme is stuck in an endless loop, what keys you’ll press?\n",
    "AnsL ctrl + C"
   ]
  },
  {
   "cell_type": "code",
   "execution_count": null,
   "id": "e23edc1b",
   "metadata": {},
   "outputs": [],
   "source": [
    "10. How can you tell the difference between break and continue?\n",
    "Ans:\n",
    "    Break -> terminates the current loop\n",
    "    Continue - > jump to next iteration"
   ]
  },
  {
   "cell_type": "raw",
   "id": "94bdc3bc",
   "metadata": {},
   "source": [
    "11. In a for loop, what is the difference between range(10), range(0, 10), and range(0, 10, 1)?\n",
    "Ans:\n",
    "range(10)-> list of 10 elements\n",
    "range(0, 10) -> from 0 to 9th element\n",
    "range(0,10,1) --> from 0 to 9th element with stepsize as 1"
   ]
  },
  {
   "cell_type": "code",
   "execution_count": null,
   "id": "4b82c07b",
   "metadata": {},
   "outputs": [],
   "source": [
    "12. Write a short program that prints the numbers 1 to 10 using a for loop. Then write an equivalent program that prints the numbers 1 to 10 using a while loop."
   ]
  },
  {
   "cell_type": "code",
   "execution_count": 13,
   "id": "b9325876",
   "metadata": {},
   "outputs": [
    {
     "name": "stdout",
     "output_type": "stream",
     "text": [
      "1\n",
      "2\n",
      "3\n",
      "4\n",
      "5\n",
      "6\n",
      "7\n",
      "8\n",
      "9\n",
      "10\n"
     ]
    }
   ],
   "source": [
    "for i in range(1,11):\n",
    "    print(i)"
   ]
  },
  {
   "cell_type": "code",
   "execution_count": 15,
   "id": "cc447b40",
   "metadata": {},
   "outputs": [
    {
     "name": "stdout",
     "output_type": "stream",
     "text": [
      "1\n",
      "2\n",
      "3\n",
      "4\n",
      "5\n",
      "6\n",
      "7\n",
      "8\n",
      "9\n",
      "10\n"
     ]
    }
   ],
   "source": [
    "n = 1\n",
    "while n < 11:\n",
    "    print(n)\n",
    "    n = n + 1\n",
    "\n",
    "   "
   ]
  },
  {
   "cell_type": "raw",
   "id": "91b00621",
   "metadata": {},
   "source": [
    "13. If you had a function named bacon() inside a module named spam, how would you call it after importing spam?\n",
    "Ans:spam.bacon()"
   ]
  }
 ],
 "metadata": {
  "kernelspec": {
   "display_name": "Python 3 (ipykernel)",
   "language": "python",
   "name": "python3"
  },
  "language_info": {
   "codemirror_mode": {
    "name": "ipython",
    "version": 3
   },
   "file_extension": ".py",
   "mimetype": "text/x-python",
   "name": "python",
   "nbconvert_exporter": "python",
   "pygments_lexer": "ipython3",
   "version": "3.9.12"
  }
 },
 "nbformat": 4,
 "nbformat_minor": 5
}
