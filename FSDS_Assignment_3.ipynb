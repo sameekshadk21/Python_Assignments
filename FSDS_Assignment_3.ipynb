{
 "cells": [
  {
   "cell_type": "code",
   "execution_count": 52,
   "id": "4cdc03f1-78d5-484f-9849-2619151612d1",
   "metadata": {},
   "outputs": [],
   "source": [
    "#1) Count the number of times iNeuron appears in the string.\n",
    "text = \"Welcome to iNeuron, You are a part of FSDS Bootcamp 2 in iNeuron. I hope you are enjoying the course by iNeuron\"\n"
   ]
  },
  {
   "cell_type": "code",
   "execution_count": 57,
   "id": "55f6bb0b-4502-4521-995b-19ad1f8593dd",
   "metadata": {},
   "outputs": [
    {
     "data": {
      "text/plain": [
       "3"
      ]
     },
     "execution_count": 57,
     "metadata": {},
     "output_type": "execute_result"
    }
   ],
   "source": [
    "text.count(\"iNeuron\")"
   ]
  },
  {
   "cell_type": "code",
   "execution_count": 62,
   "id": "cbd93d8a-235f-4575-819b-e463a37d6d32",
   "metadata": {},
   "outputs": [],
   "source": [
    "#2) Check if position 5 to 11 ends with the phrase iNeuron. in the string\n",
    "\n",
    "txt = \"Hello, welcome to FSDS 2.0 at iNeuron.\""
   ]
  },
  {
   "cell_type": "code",
   "execution_count": 65,
   "id": "181aa097-aa3f-415d-8a6a-72e1d13085e1",
   "metadata": {},
   "outputs": [
    {
     "data": {
      "text/plain": [
       "False"
      ]
     },
     "execution_count": 65,
     "metadata": {},
     "output_type": "execute_result"
    }
   ],
   "source": [
    "d = txt[5:12]\n",
    "d.endswith(\"iNeuron\")\n",
    "    "
   ]
  },
  {
   "cell_type": "markdown",
   "id": "1345cd6c-6cd7-4cbc-9b4e-06a7df99947b",
   "metadata": {},
   "source": [
    "\"\"\"3) Write a program that takes your full name as input and displays the abbreviations of the first and middle names \n",
    "except the last name which is displayed as it is. For example, if your name is Sunny Bhaveen Chandra, \n",
    "then the output should be S.B.Chandra.\"\"\""
   ]
  },
  {
   "cell_type": "code",
   "execution_count": 77,
   "id": "63987345-6cfe-4c34-b53a-ad30977fda8a",
   "metadata": {},
   "outputs": [],
   "source": [
    "def f(name):\n",
    "    \"\"\" last name should be there\"\"\"\n",
    "    name = input(\"Enter your full name: \")\n",
    "    l = name.split()\n",
    "    c = \"\"\n",
    "    for i in range(len(l)-1):\n",
    "        n = l[i]\n",
    "        c += (n[0].upper()+ \".\")\n",
    "    c += l[-1].title()\n",
    "    return c\n",
    "    \"\"\" if c.endswith(\".\"):\n",
    "        t = c.removesuffix(\".\")\n",
    "        print(t)\"\"\"\n",
    "        \n",
    "\n",
    "\n",
    "    "
   ]
  },
  {
   "cell_type": "code",
   "execution_count": 78,
   "id": "5f0dc345-542a-49b7-b7ec-f4e2e2bde628",
   "metadata": {},
   "outputs": [
    {
     "name": "stdin",
     "output_type": "stream",
     "text": [
      "Enter your full name:  Sameeksha Dembale Krishnappa\n"
     ]
    },
    {
     "data": {
      "text/plain": [
       "'S.D.Krishnappa'"
      ]
     },
     "execution_count": 78,
     "metadata": {},
     "output_type": "execute_result"
    }
   ],
   "source": [
    "f(name)"
   ]
  },
  {
   "cell_type": "code",
   "execution_count": 107,
   "id": "27c5f03a-b4a5-4ac5-bc32-9f4174e8c8be",
   "metadata": {},
   "outputs": [],
   "source": [
    "def f(name):\n",
    "    \"\"\" all should be abbreviated\"\"\"\n",
    "    name = input(\"Enter your full name: \")\n",
    "    l = name.split()\n",
    "    c = \"\"\n",
    "    for i in range(len(l)):\n",
    "        n = l[i]\n",
    "        c += (n[0].upper()+ \".\")\n",
    "    #return c\n",
    "    t = c\n",
    "    if t.endswith(\".\"):\n",
    "        t = t.removesuffix(\".\")\n",
    "    return t\n"
   ]
  },
  {
   "cell_type": "code",
   "execution_count": 108,
   "id": "c9bfc0dc-4dff-4878-8798-db12e5a6abe6",
   "metadata": {},
   "outputs": [
    {
     "name": "stdin",
     "output_type": "stream",
     "text": [
      "Enter your full name:  Sameeksha Dembale Krishnappa\n"
     ]
    },
    {
     "data": {
      "text/plain": [
       "'S.D.K'"
      ]
     },
     "execution_count": 108,
     "metadata": {},
     "output_type": "execute_result"
    }
   ],
   "source": [
    "f(name)"
   ]
  },
  {
   "cell_type": "code",
   "execution_count": 160,
   "id": "d63a9262-6a3a-4e24-8059-cee8852f1e16",
   "metadata": {},
   "outputs": [],
   "source": [
    "#4) Join all items in a list into a string, using a hash(#) character as separator:\n",
    "\n",
    "LIST = [\"My\", \"name\", \"is\", \"Rishav\", \"Dash\"]"
   ]
  },
  {
   "cell_type": "code",
   "execution_count": 161,
   "id": "30acbe58-93b1-4028-9fc4-d22cc1b9c0d5",
   "metadata": {},
   "outputs": [
    {
     "name": "stdout",
     "output_type": "stream",
     "text": [
      "My#name#is#Rishav#Dash#"
     ]
    }
   ],
   "source": [
    "\n",
    "l = len(LIST)\n",
    "for i in range(l):\n",
    "    print(LIST[i], end=\"#\")\n",
    "\n"
   ]
  },
  {
   "cell_type": "code",
   "execution_count": 162,
   "id": "b3459379-1a18-45e7-a4ea-44caccc495fa",
   "metadata": {},
   "outputs": [],
   "source": [
    "\n",
    "LIST = [\"My\", \"name\", \"is\", \"Rishav\", \"Dash\"]"
   ]
  },
  {
   "cell_type": "code",
   "execution_count": 163,
   "id": "11b1dfc4-a4e8-4cc1-a3a1-f70d851753ea",
   "metadata": {},
   "outputs": [
    {
     "name": "stdout",
     "output_type": "stream",
     "text": [
      "My#name#is#Rishav#Dash\n"
     ]
    }
   ],
   "source": [
    "print(\"#\".join(LIST))"
   ]
  },
  {
   "cell_type": "code",
   "execution_count": null,
   "id": "dce1a7fb-a939-4cdc-af3e-54f7839db338",
   "metadata": {},
   "outputs": [],
   "source": [
    "#5) Write example for the following string manipulation function,\n",
    "\n",
    "- isdecimal()\n",
    "- islower()\n",
    "- isupper()\n",
    "- isalpha()\n",
    "- isnumeric()"
   ]
  },
  {
   "cell_type": "code",
   "execution_count": 178,
   "id": "c5e3b5d7-7b01-4e91-bce5-14c840dd0bf5",
   "metadata": {},
   "outputs": [
    {
     "data": {
      "text/plain": [
       "True"
      ]
     },
     "execution_count": 178,
     "metadata": {},
     "output_type": "execute_result"
    }
   ],
   "source": [
    "s = \"123445689\"\n",
    "s.isdecimal()"
   ]
  },
  {
   "cell_type": "code",
   "execution_count": 179,
   "id": "8cfac101-f004-4cfd-85db-75e69c65c864",
   "metadata": {},
   "outputs": [
    {
     "data": {
      "text/plain": [
       "False"
      ]
     },
     "execution_count": 179,
     "metadata": {},
     "output_type": "execute_result"
    }
   ],
   "source": [
    "s = \"123764wyet\"\n",
    "s.isdecimal()"
   ]
  },
  {
   "cell_type": "code",
   "execution_count": 167,
   "id": "a6c309e5-ea0d-4833-bcc5-eee6c0d5e39d",
   "metadata": {},
   "outputs": [],
   "source": [
    "l = \"sameeksha\""
   ]
  },
  {
   "cell_type": "code",
   "execution_count": 168,
   "id": "61f07b5d-8b1d-43a9-85c5-38e4d4d9c6ce",
   "metadata": {},
   "outputs": [
    {
     "data": {
      "text/plain": [
       "True"
      ]
     },
     "execution_count": 168,
     "metadata": {},
     "output_type": "execute_result"
    }
   ],
   "source": [
    "l.islower()"
   ]
  },
  {
   "cell_type": "code",
   "execution_count": 169,
   "id": "5c49c9c4-e112-45c7-8dd1-bfd2f8fec9f3",
   "metadata": {},
   "outputs": [],
   "source": [
    "l = \"SAMEEKSHA\""
   ]
  },
  {
   "cell_type": "code",
   "execution_count": 170,
   "id": "e3e96bc4-effe-4cc4-87ca-14aadda19dc6",
   "metadata": {},
   "outputs": [
    {
     "data": {
      "text/plain": [
       "True"
      ]
     },
     "execution_count": 170,
     "metadata": {},
     "output_type": "execute_result"
    }
   ],
   "source": [
    "l.isupper()"
   ]
  },
  {
   "cell_type": "code",
   "execution_count": null,
   "id": "3cf577ee-de07-45f6-932b-2781fd2258df",
   "metadata": {},
   "outputs": [],
   "source": [
    "l = \"123dhfasd\""
   ]
  },
  {
   "cell_type": "code",
   "execution_count": 171,
   "id": "eed63b86-4b4c-4d65-8d7e-e980c51b1ac5",
   "metadata": {},
   "outputs": [
    {
     "data": {
      "text/plain": [
       "True"
      ]
     },
     "execution_count": 171,
     "metadata": {},
     "output_type": "execute_result"
    }
   ],
   "source": [
    "l.isalpha()"
   ]
  },
  {
   "cell_type": "code",
   "execution_count": 176,
   "id": "7aadbf7e-ae18-4a7a-899e-c682ec0ddaf8",
   "metadata": {},
   "outputs": [],
   "source": [
    "l = \"12367678\""
   ]
  },
  {
   "cell_type": "code",
   "execution_count": 177,
   "id": "3d66cc2f-da41-4221-afe0-dfeb7e38a33b",
   "metadata": {},
   "outputs": [
    {
     "data": {
      "text/plain": [
       "True"
      ]
     },
     "execution_count": 177,
     "metadata": {},
     "output_type": "execute_result"
    }
   ],
   "source": [
    "l.isnumeric()"
   ]
  },
  {
   "cell_type": "code",
   "execution_count": null,
   "id": "f3d8a325-1b95-4ed5-98f3-e00e8113521c",
   "metadata": {},
   "outputs": [],
   "source": [
    "#Indian PAN card format follows the following formats -\n",
    "\n",
    "AYEPC7894X\n",
    "ABCDE9999Y Take user input for PAN_CARD and validate as per the above example."
   ]
  },
  {
   "cell_type": "code",
   "execution_count": 27,
   "id": "6aeb4772-9996-40d3-8f4a-b2ca6fdadc74",
   "metadata": {},
   "outputs": [
    {
     "name": "stdin",
     "output_type": "stream",
     "text": [
      "Enter the Pan Number:  AYEPC7894X\n"
     ]
    },
    {
     "name": "stdout",
     "output_type": "stream",
     "text": [
      "Valid Pan Number AYEPC7894X\n"
     ]
    }
   ],
   "source": [
    "pan= input(\"Enter the Pan Number: \")\n",
    "a =pan[0:5]\n",
    "b =pan[5:9]\n",
    "c =pan[9:10]\n",
    "if len(pan) == 10:\n",
    "    if (a.isupper() and b.isdigit() and c.isupper()):\n",
    "        print(f\"Valid Pan Number {pan}\")\n",
    "    else:\n",
    "        print(f\"Invalid Pan NUmber {pan}\")       \n",
    "else:\n",
    "    print(f\"Invalid Pan NUmber {pan}\")"
   ]
  },
  {
   "cell_type": "code",
   "execution_count": null,
   "id": "1735b94b-bcb0-4519-ba29-6bc196d1a337",
   "metadata": {},
   "outputs": [],
   "source": []
  },
  {
   "cell_type": "code",
   "execution_count": null,
   "id": "bbc16434-fc43-43d8-9bcf-9dc3f383e1a7",
   "metadata": {},
   "outputs": [],
   "source": []
  },
  {
   "cell_type": "code",
   "execution_count": null,
   "id": "893007b2-d6a3-4f41-892c-a4c327017c1d",
   "metadata": {},
   "outputs": [],
   "source": []
  },
  {
   "cell_type": "code",
   "execution_count": null,
   "id": "7af68e88-3b77-417b-a387-5309f7ca9005",
   "metadata": {},
   "outputs": [],
   "source": []
  },
  {
   "cell_type": "code",
   "execution_count": null,
   "id": "9c4e4b35-d2cd-4ba3-8bdd-098c79d58c49",
   "metadata": {},
   "outputs": [],
   "source": []
  },
  {
   "cell_type": "code",
   "execution_count": null,
   "id": "cedf4981-a38d-4000-abf9-d9c86ce93413",
   "metadata": {},
   "outputs": [],
   "source": []
  },
  {
   "cell_type": "code",
   "execution_count": null,
   "id": "ab955f13-24cc-46f2-b884-f7e8c78186d0",
   "metadata": {},
   "outputs": [],
   "source": []
  },
  {
   "cell_type": "code",
   "execution_count": null,
   "id": "53d6bc12-10f0-4927-a18b-762b8656c164",
   "metadata": {},
   "outputs": [],
   "source": []
  },
  {
   "cell_type": "code",
   "execution_count": null,
   "id": "2277a8f1-a9ea-446e-baa1-7ddeaa49d77f",
   "metadata": {},
   "outputs": [],
   "source": []
  },
  {
   "cell_type": "code",
   "execution_count": null,
   "id": "9181d951-7aa1-4a5e-afd3-8629582550e5",
   "metadata": {},
   "outputs": [],
   "source": []
  }
 ],
 "metadata": {
  "kernelspec": {
   "display_name": "Python 3 (ipykernel)",
   "language": "python",
   "name": "python3"
  },
  "language_info": {
   "codemirror_mode": {
    "name": "ipython",
    "version": 3
   },
   "file_extension": ".py",
   "mimetype": "text/x-python",
   "name": "python",
   "nbconvert_exporter": "python",
   "pygments_lexer": "ipython3",
   "version": "3.9.12"
  }
 },
 "nbformat": 4,
 "nbformat_minor": 5
}
