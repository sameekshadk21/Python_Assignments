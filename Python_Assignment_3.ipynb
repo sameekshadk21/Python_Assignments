{
 "cells": [
  {
   "cell_type": "markdown",
   "id": "7b5abece-afc8-4fe8-8d14-badd39bc155c",
   "metadata": {},
   "source": [
    "1. Why are functions advantageous to have in your programs?\n",
    "Because Function can be reuesed when required in the program so it avoid writing the code again and again"
   ]
  },
  {
   "cell_type": "markdown",
   "id": "6c267200-057a-4b25-963e-4f2a57e3988e",
   "metadata": {},
   "source": [
    "2. When does the code in a function run: when it's specified or when it's called?\n",
    "When function is called, then code in the function runs/executes"
   ]
  },
  {
   "cell_type": "markdown",
   "id": "48a39d79-4361-4711-a52a-abbea44ddafc",
   "metadata": {},
   "source": [
    "3. What statement creates a function?\n",
    "def keyword following with function name and parenthesis ending with colon will create the function"
   ]
  },
  {
   "cell_type": "markdown",
   "id": "63dd1e8a-31d3-4219-9254-cde05f7b3b2b",
   "metadata": {},
   "source": [
    "4. What is the difference between a function and a function call?\n",
    "Function is the block of codes which contains logic and return the result\n",
    "A function call means invoking or calling that function. Unless a function is called there is no use of that function."
   ]
  },
  {
   "cell_type": "markdown",
   "id": "2e188ed0-d030-4d31-b657-a5ccbc2a8141",
   "metadata": {},
   "source": [
    "5. How many global scopes are there in a Python program? How many local scopes?\n",
    "There are only one global scopes in Python\n",
    "There are 4 local scopes in Python"
   ]
  },
  {
   "cell_type": "markdown",
   "id": "ba286d2b-c17a-44d2-b18d-02b049adce2f",
   "metadata": {},
   "source": [
    "6. What happens to variables in a local scope when the function call returns?\n",
    "Variable which are in local scopes will be destroyed once the function call returns"
   ]
  },
  {
   "cell_type": "markdown",
   "id": "c92d2317-259b-4946-9242-1c41b9393322",
   "metadata": {},
   "source": [
    "7. What is the concept of a return value? Is it possible to have a return value in an expression?\n",
    "Return value are the values which are obtained after the function call/ or when the function complete its task\n",
    "yes it is possible to have a return value in an expression\n"
   ]
  },
  {
   "cell_type": "markdown",
   "id": "48063d9e-407c-4407-b3de-7a2050fe2f48",
   "metadata": {},
   "source": [
    "8. If a function does not have a return statement, what is the return value of a call to that function?\n",
    "None will be the default values if function doesn't have return statement explicitily"
   ]
  },
  {
   "cell_type": "markdown",
   "id": "740a69d7-bf74-4fde-9ea4-be2375b49ba7",
   "metadata": {},
   "source": [
    "9. How do you make a function variable refer to the global variable?\n",
    "By declarig the Keyword global"
   ]
  },
  {
   "cell_type": "markdown",
   "id": "efdba587-d32e-43d2-97f6-08635a558a6c",
   "metadata": {},
   "source": [
    "10. What is the data type of None?\n",
    "NoneType"
   ]
  },
  {
   "cell_type": "markdown",
   "id": "28caa4a9-d0d7-4776-a1a9-d8099d2fe7e2",
   "metadata": {},
   "source": [
    "11. What does the sentence import areallyourpetsnamederic do?\n",
    "It imports the module name called areallyourpetsnamederic"
   ]
  },
  {
   "cell_type": "markdown",
   "id": "f336c269-46ea-4f59-9b77-dbc6dd4b9658",
   "metadata": {},
   "source": [
    "12. If you had a bacon() feature in a spam module, what would you call it after importing spam?\n",
    "spam.bacon()"
   ]
  },
  {
   "cell_type": "markdown",
   "id": "69cd8bfe-37ee-4d82-b63d-a789230f355b",
   "metadata": {},
   "source": [
    "13. What can you do to save a programme from crashing if it encounters an error?\n",
    "By using Exception handling and logging\n",
    "use try and except blocks"
   ]
  },
  {
   "cell_type": "markdown",
   "id": "ac93e157-ddec-45cf-be46-df9c84b1c37d",
   "metadata": {},
   "source": [
    "14. What is the purpose of the try clause? What is the purpose of the except clause?\n",
    "The try block allows you  test a block of code for errors. \n",
    "The except block lallows you to  handle the error."
   ]
  }
 ],
 "metadata": {
  "kernelspec": {
   "display_name": "Python 3 (ipykernel)",
   "language": "python",
   "name": "python3"
  },
  "language_info": {
   "codemirror_mode": {
    "name": "ipython",
    "version": 3
   },
   "file_extension": ".py",
   "mimetype": "text/x-python",
   "name": "python",
   "nbconvert_exporter": "python",
   "pygments_lexer": "ipython3",
   "version": "3.9.12"
  }
 },
 "nbformat": 4,
 "nbformat_minor": 5
}
