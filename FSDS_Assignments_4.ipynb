{
 "cells": [
  {
   "cell_type": "code",
   "execution_count": 10,
   "id": "a46aca1e-7f4e-41e6-ab32-7d32e41a3ef6",
   "metadata": {},
   "outputs": [],
   "source": [
    "#Q1. Find the largest number from the given list, use for loop.\n",
    "n = [12, 75, 150, 180, 145, 525, 50]"
   ]
  },
  {
   "cell_type": "code",
   "execution_count": 11,
   "id": "5dad818f-84a8-4634-85fb-a96fa7814594",
   "metadata": {},
   "outputs": [],
   "source": [
    "def max_num(n):\n",
    "    max = 0\n",
    "    try:\n",
    "        for i in n:\n",
    "            if i > max:\n",
    "                max = i\n",
    "        return max\n",
    "    except Exception as e:\n",
    "        print(e)"
   ]
  },
  {
   "cell_type": "code",
   "execution_count": 12,
   "id": "b2b736d2-87c7-4a49-89e2-3a535847ba24",
   "metadata": {},
   "outputs": [
    {
     "data": {
      "text/plain": [
       "525"
      ]
     },
     "execution_count": 12,
     "metadata": {},
     "output_type": "execute_result"
    }
   ],
   "source": [
    "max_num(n)"
   ]
  },
  {
   "cell_type": "code",
   "execution_count": null,
   "id": "f6e592b8-3c27-4eb2-b2d4-0bd4f02dd82d",
   "metadata": {},
   "outputs": [],
   "source": [
    "# Q2. Print all the even number between (1, 12)."
   ]
  },
  {
   "cell_type": "code",
   "execution_count": 35,
   "id": "a62fff85-0ee9-4df8-aecd-7271e7e6cad7",
   "metadata": {},
   "outputs": [],
   "source": [
    "def even():\n",
    "    l = []\n",
    "    try:\n",
    "        for i in range(1,13):\n",
    "            if i%2 == 0:\n",
    "                l.append(i)\n",
    "            else:\n",
    "                continue\n",
    "        return l\n",
    "    except Exception as e:\n",
    "        print(e)"
   ]
  },
  {
   "cell_type": "code",
   "execution_count": 36,
   "id": "f32305a8-111c-4426-a2b2-5136ebe9c232",
   "metadata": {},
   "outputs": [
    {
     "data": {
      "text/plain": [
       "[2, 4, 6, 8, 10, 12]"
      ]
     },
     "execution_count": 36,
     "metadata": {},
     "output_type": "execute_result"
    }
   ],
   "source": [
    "even()"
   ]
  },
  {
   "cell_type": "code",
   "execution_count": 49,
   "id": "afe71109-623c-4aba-a069-5b9c83601be6",
   "metadata": {},
   "outputs": [],
   "source": [
    "def sum():\n",
    "    try:\n",
    "        n = int(input(\"Enter the number:\"))\n",
    "        s = 0\n",
    "        for i in range(1,n+1):\n",
    "            s = s +i\n",
    "        print(f\"Sum is : {s}\")\n",
    "    except Exception as e:\n",
    "        print(e)"
   ]
  },
  {
   "cell_type": "code",
   "execution_count": 50,
   "id": "6a8c0116-92cb-41dc-a2f4-9038376e697d",
   "metadata": {},
   "outputs": [
    {
     "name": "stdin",
     "output_type": "stream",
     "text": [
      "Enter the number: 10\n"
     ]
    },
    {
     "name": "stdout",
     "output_type": "stream",
     "text": [
      "Sum is : 55\n"
     ]
    }
   ],
   "source": [
    "sum()"
   ]
  },
  {
   "cell_type": "code",
   "execution_count": 58,
   "id": "fca38633-ca42-4431-8738-1bb6174832cd",
   "metadata": {},
   "outputs": [],
   "source": [
    "\"\"\"Q4. Write a program to display only those numbers from a list that satisfy the following conditions\n",
    "The number must be divisible by five\n",
    "If the number is greater than 150, then skip it and move to the next number\n",
    "If the number is greater than 500, then stop the loop\"\"\"\n",
    "n = [12, 75, 150, 180, 145, 525, 50]"
   ]
  },
  {
   "cell_type": "code",
   "execution_count": 59,
   "id": "8d4712ed-d8bd-4f87-b41c-d0a6341d0f90",
   "metadata": {},
   "outputs": [],
   "source": [
    "def display(n):\n",
    "    try:\n",
    "        l = []\n",
    "        for i in n:\n",
    "            if i%5 == 0:\n",
    "                if i <= 150:\n",
    "                    l.append(i)\n",
    "                elif i> 150 and i<=500:\n",
    "                    pass\n",
    "                elif i > 500:\n",
    "                    break\n",
    "            else:\n",
    "                continue\n",
    "        return l\n",
    "    except Exception as e:\n",
    "        print(e)"
   ]
  },
  {
   "cell_type": "code",
   "execution_count": 60,
   "id": "b7aca32b-aaab-4cd3-a25e-2de8ff321ea3",
   "metadata": {},
   "outputs": [
    {
     "data": {
      "text/plain": [
       "[75, 150, 145]"
      ]
     },
     "execution_count": 60,
     "metadata": {},
     "output_type": "execute_result"
    }
   ],
   "source": [
    "display(n)"
   ]
  },
  {
   "cell_type": "code",
   "execution_count": 64,
   "id": "49cb413c-70ff-45a2-b38c-211e9cf1781e",
   "metadata": {},
   "outputs": [],
   "source": [
    "#Q5. Print the given list in reverse order.\n",
    "\n",
    "list1 = [10, 20, 30, 40, 50]"
   ]
  },
  {
   "cell_type": "code",
   "execution_count": 65,
   "id": "be1c4bfe-7c94-482c-9b8b-71c0cc8632a5",
   "metadata": {},
   "outputs": [
    {
     "data": {
      "text/plain": [
       "[50, 40, 30, 20, 10]"
      ]
     },
     "execution_count": 65,
     "metadata": {},
     "output_type": "execute_result"
    }
   ],
   "source": [
    "l = list1[::-1]\n",
    "l\n"
   ]
  },
  {
   "cell_type": "code",
   "execution_count": null,
   "id": "e57b558c-18f8-4cf0-aef4-664876c56415",
   "metadata": {},
   "outputs": [],
   "source": []
  },
  {
   "cell_type": "code",
   "execution_count": null,
   "id": "768ee5f0-ee4e-433f-872c-83275c613045",
   "metadata": {},
   "outputs": [],
   "source": []
  },
  {
   "cell_type": "code",
   "execution_count": null,
   "id": "a2240f6f-af85-4f1d-afb3-c37afe07a00e",
   "metadata": {},
   "outputs": [],
   "source": []
  }
 ],
 "metadata": {
  "kernelspec": {
   "display_name": "Python 3 (ipykernel)",
   "language": "python",
   "name": "python3"
  },
  "language_info": {
   "codemirror_mode": {
    "name": "ipython",
    "version": 3
   },
   "file_extension": ".py",
   "mimetype": "text/x-python",
   "name": "python",
   "nbconvert_exporter": "python",
   "pygments_lexer": "ipython3",
   "version": "3.9.12"
  },
  "toc-showcode": false,
  "toc-showmarkdowntxt": false,
  "toc-showtags": true
 },
 "nbformat": 4,
 "nbformat_minor": 5
}
